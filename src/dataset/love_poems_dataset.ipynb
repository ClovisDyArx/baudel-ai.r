{
 "cells": [
  {
   "cell_type": "code",
   "id": "initial_id",
   "metadata": {
    "collapsed": true,
    "ExecuteTime": {
     "end_time": "2024-11-21T14:50:42.337578Z",
     "start_time": "2024-11-21T14:50:42.076163Z"
    }
   },
   "source": "import pandas as pd",
   "outputs": [],
   "execution_count": 1
  },
  {
   "metadata": {
    "ExecuteTime": {
     "end_time": "2024-11-21T14:50:49.071428Z",
     "start_time": "2024-11-21T14:50:48.209372Z"
    }
   },
   "cell_type": "code",
   "source": [
    "df_love_poems = pd.read_parquet(\"hf://datasets/asoria/love-poems/data/train-00000-of-00001.parquet\")\n",
    "df_love_poems"
   ],
   "id": "974fef95d43fc6af",
   "outputs": [
    {
     "data": {
      "text/plain": [
       "                                                  poem\n",
       "0    Why didst thou promise such a beauteous day,\\r...\n",
       "1    Weret aught to me I bore the canopy,\\r\\nWith m...\n",
       "2    Let the bird of loudest lay\\r\\nOn the sole Ara...\n",
       "3         Sing lullaby, as women do,\\r\\nWherewith t...\n",
       "4    Beshrew that heart that makes my heart to groa...\n",
       "..                                                 ...\n",
       "306  With the man I love who loves me not,\\r\\nI wal...\n",
       "307  Hart Crane, \"Voyages I, II, III, IV, V, VI\" fr...\n",
       "308  When you are old and grey and full of sleep,\\r...\n",
       "309  Give me hunger,\\r\\nO you gods that sit and giv...\n",
       "310  Potuia, potuia\\r\\nWhite grave goddess,\\r\\nPity...\n",
       "\n",
       "[311 rows x 1 columns]"
      ],
      "text/html": [
       "<div>\n",
       "<style scoped>\n",
       "    .dataframe tbody tr th:only-of-type {\n",
       "        vertical-align: middle;\n",
       "    }\n",
       "\n",
       "    .dataframe tbody tr th {\n",
       "        vertical-align: top;\n",
       "    }\n",
       "\n",
       "    .dataframe thead th {\n",
       "        text-align: right;\n",
       "    }\n",
       "</style>\n",
       "<table border=\"1\" class=\"dataframe\">\n",
       "  <thead>\n",
       "    <tr style=\"text-align: right;\">\n",
       "      <th></th>\n",
       "      <th>poem</th>\n",
       "    </tr>\n",
       "  </thead>\n",
       "  <tbody>\n",
       "    <tr>\n",
       "      <th>0</th>\n",
       "      <td>Why didst thou promise such a beauteous day,\\r...</td>\n",
       "    </tr>\n",
       "    <tr>\n",
       "      <th>1</th>\n",
       "      <td>Weret aught to me I bore the canopy,\\r\\nWith m...</td>\n",
       "    </tr>\n",
       "    <tr>\n",
       "      <th>2</th>\n",
       "      <td>Let the bird of loudest lay\\r\\nOn the sole Ara...</td>\n",
       "    </tr>\n",
       "    <tr>\n",
       "      <th>3</th>\n",
       "      <td>Sing lullaby, as women do,\\r\\nWherewith t...</td>\n",
       "    </tr>\n",
       "    <tr>\n",
       "      <th>4</th>\n",
       "      <td>Beshrew that heart that makes my heart to groa...</td>\n",
       "    </tr>\n",
       "    <tr>\n",
       "      <th>...</th>\n",
       "      <td>...</td>\n",
       "    </tr>\n",
       "    <tr>\n",
       "      <th>306</th>\n",
       "      <td>With the man I love who loves me not,\\r\\nI wal...</td>\n",
       "    </tr>\n",
       "    <tr>\n",
       "      <th>307</th>\n",
       "      <td>Hart Crane, \"Voyages I, II, III, IV, V, VI\" fr...</td>\n",
       "    </tr>\n",
       "    <tr>\n",
       "      <th>308</th>\n",
       "      <td>When you are old and grey and full of sleep,\\r...</td>\n",
       "    </tr>\n",
       "    <tr>\n",
       "      <th>309</th>\n",
       "      <td>Give me hunger,\\r\\nO you gods that sit and giv...</td>\n",
       "    </tr>\n",
       "    <tr>\n",
       "      <th>310</th>\n",
       "      <td>Potuia, potuia\\r\\nWhite grave goddess,\\r\\nPity...</td>\n",
       "    </tr>\n",
       "  </tbody>\n",
       "</table>\n",
       "<p>311 rows × 1 columns</p>\n",
       "</div>"
      ]
     },
     "execution_count": 2,
     "metadata": {},
     "output_type": "execute_result"
    }
   ],
   "execution_count": 2
  },
  {
   "metadata": {
    "ExecuteTime": {
     "end_time": "2024-11-21T14:51:19.703228Z",
     "start_time": "2024-11-21T14:51:19.700764Z"
    }
   },
   "cell_type": "code",
   "source": "assert len(df_love_poems['poem'].unique()) == len(df_love_poems)",
   "id": "be9d3edb755d8f63",
   "outputs": [],
   "execution_count": 5
  },
  {
   "metadata": {},
   "cell_type": "code",
   "outputs": [],
   "execution_count": null,
   "source": "",
   "id": "3afa836c10257e52"
  }
 ],
 "metadata": {
  "kernelspec": {
   "display_name": "Python 3",
   "language": "python",
   "name": "python3"
  },
  "language_info": {
   "codemirror_mode": {
    "name": "ipython",
    "version": 2
   },
   "file_extension": ".py",
   "mimetype": "text/x-python",
   "name": "python",
   "nbconvert_exporter": "python",
   "pygments_lexer": "ipython2",
   "version": "2.7.6"
  }
 },
 "nbformat": 4,
 "nbformat_minor": 5
}
