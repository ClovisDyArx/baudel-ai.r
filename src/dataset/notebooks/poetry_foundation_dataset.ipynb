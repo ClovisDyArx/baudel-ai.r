{
 "cells": [
  {
   "cell_type": "code",
   "id": "initial_id",
   "metadata": {
    "collapsed": true,
    "ExecuteTime": {
     "end_time": "2024-11-22T19:29:39.689731Z",
     "start_time": "2024-11-22T19:29:38.574670Z"
    }
   },
   "source": [
    "import kagglehub\n",
    "import pandas as pd\n",
    "import os\n",
    "from src.dataset.dataset import list_files, load_kaggle_datasets"
   ],
   "outputs": [],
   "execution_count": 1
  },
  {
   "metadata": {
    "ExecuteTime": {
     "end_time": "2024-11-22T19:29:41.947487Z",
     "start_time": "2024-11-22T19:29:40.161785Z"
    }
   },
   "cell_type": "code",
   "source": [
    "poetry_foundation_path = \"tgdivy/poetry-foundation-poems\"\n",
    "path = kagglehub.dataset_download(poetry_foundation_path)\n",
    "\n",
    "print(\"Path to dataset files:\", path)"
   ],
   "id": "e08dc169e8450618",
   "outputs": [
    {
     "name": "stdout",
     "output_type": "stream",
     "text": [
      "Downloading from https://www.kaggle.com/api/v1/datasets/download/tgdivy/poetry-foundation-poems?dataset_version_number=1...\n"
     ]
    },
    {
     "name": "stderr",
     "output_type": "stream",
     "text": [
      "100%|██████████| 8.88M/8.88M [00:00<00:00, 11.0MB/s]"
     ]
    },
    {
     "name": "stdout",
     "output_type": "stream",
     "text": [
      "Extracting files...\n"
     ]
    },
    {
     "name": "stderr",
     "output_type": "stream",
     "text": [
      "\n"
     ]
    },
    {
     "name": "stdout",
     "output_type": "stream",
     "text": [
      "Path to dataset files: /home/clovinux/.cache/kagglehub/datasets/tgdivy/poetry-foundation-poems/versions/1\n"
     ]
    }
   ],
   "execution_count": 2
  },
  {
   "metadata": {
    "ExecuteTime": {
     "end_time": "2024-11-22T19:30:08.119442Z",
     "start_time": "2024-11-22T19:30:07.598166Z"
    }
   },
   "cell_type": "code",
   "source": [
    "df = load_kaggle_datasets(poetry_foundation_path)\n",
    "df"
   ],
   "id": "7719fa7bd875d90a",
   "outputs": [
    {
     "data": {
      "text/plain": [
       "       Unnamed: 0                                              Title  \\\n",
       "6               6  \\r\\r\\n                    Invisible Fish\\r\\r\\n...   \n",
       "7               7  \\r\\r\\n                    Don’t Bother the Ear...   \n",
       "9               9  \\r\\r\\n                    [\"Hour in which I co...   \n",
       "16             16  \\r\\r\\n                    scars\\r\\r\\n         ...   \n",
       "17             17  \\r\\r\\n                    what remains two\\r\\r...   \n",
       "...           ...                                                ...   \n",
       "13832           1  \\r\\r\\n                    The Spider\\r\\r\\n    ...   \n",
       "13834           0  \\r\\r\\n                    0\\r\\r\\n                   \n",
       "13835           1  \\r\\r\\n                    !\\r\\r\\n                   \n",
       "13848          12  \\r\\r\\n                    1 January 1965\\r\\r\\n...   \n",
       "13849          13  \\r\\r\\n                    1-800-FEAR\\r\\r\\n    ...   \n",
       "\n",
       "                                                    Poem               Poet  \\\n",
       "6      \\r\\r\\nInvisible fish swim this ghost ocean now...          Joy Harjo   \n",
       "7      \\r\\r\\nDon’t bother the earth spirit who lives ...          Joy Harjo   \n",
       "9      \\r\\r\\nHour in which I consider hydrangea, a sa...       Simone White   \n",
       "16     \\r\\r\\nmy father’s body is a map\\r\\r\\na record ...        Truong Tran   \n",
       "17     \\r\\r\\nit has long been forgotten this practice...        Truong Tran   \n",
       "...                                                  ...                ...   \n",
       "13832  \\r\\r\\nI \\r\\r\\nThe spider expects the cold of w...   Richard Eberhart   \n",
       "13834  \\r\\r\\n          Philosophic\\r\\r\\nin its comple...  Hailey Leithauser   \n",
       "13835  \\r\\r\\nDear Writers, I’m compiling the first in...     Wendy Videlock   \n",
       "13848  \\r\\r\\nThe Wise Men will unlearn your name.\\r\\r...     Joseph Brodsky   \n",
       "13849  \\r\\r\\nWe'd  like  to  talk  with  you  about  ...      Jody Gladding   \n",
       "\n",
       "                                                    Tags  \n",
       "6      Living,Time & Brevity,Relationships,Family & A...  \n",
       "7      Religion,The Spiritual,Mythology & Folklore,Fa...  \n",
       "9      Living,Parenthood,The Body,The Mind,Nature,Tre...  \n",
       "16                           The Body,Family & Ancestors  \n",
       "17                           Infancy,Parenthood,The Body  \n",
       "...                                                  ...  \n",
       "13832  Nature,Animals,Seas, Rivers, & Streams,Summer,...  \n",
       "13834                         Arts & Sciences,Philosophy  \n",
       "13835  Relationships,Gay, Lesbian, Queer,Arts & Scien...  \n",
       "13848  Living,Death,Growing Old,Time & Brevity,Nature...  \n",
       "13849         Living,Social Commentaries,Popular Culture  \n",
       "\n",
       "[12897 rows x 5 columns]"
      ],
      "text/html": [
       "<div>\n",
       "<style scoped>\n",
       "    .dataframe tbody tr th:only-of-type {\n",
       "        vertical-align: middle;\n",
       "    }\n",
       "\n",
       "    .dataframe tbody tr th {\n",
       "        vertical-align: top;\n",
       "    }\n",
       "\n",
       "    .dataframe thead th {\n",
       "        text-align: right;\n",
       "    }\n",
       "</style>\n",
       "<table border=\"1\" class=\"dataframe\">\n",
       "  <thead>\n",
       "    <tr style=\"text-align: right;\">\n",
       "      <th></th>\n",
       "      <th>Unnamed: 0</th>\n",
       "      <th>Title</th>\n",
       "      <th>Poem</th>\n",
       "      <th>Poet</th>\n",
       "      <th>Tags</th>\n",
       "    </tr>\n",
       "  </thead>\n",
       "  <tbody>\n",
       "    <tr>\n",
       "      <th>6</th>\n",
       "      <td>6</td>\n",
       "      <td>\\r\\r\\n                    Invisible Fish\\r\\r\\n...</td>\n",
       "      <td>\\r\\r\\nInvisible fish swim this ghost ocean now...</td>\n",
       "      <td>Joy Harjo</td>\n",
       "      <td>Living,Time &amp; Brevity,Relationships,Family &amp; A...</td>\n",
       "    </tr>\n",
       "    <tr>\n",
       "      <th>7</th>\n",
       "      <td>7</td>\n",
       "      <td>\\r\\r\\n                    Don’t Bother the Ear...</td>\n",
       "      <td>\\r\\r\\nDon’t bother the earth spirit who lives ...</td>\n",
       "      <td>Joy Harjo</td>\n",
       "      <td>Religion,The Spiritual,Mythology &amp; Folklore,Fa...</td>\n",
       "    </tr>\n",
       "    <tr>\n",
       "      <th>9</th>\n",
       "      <td>9</td>\n",
       "      <td>\\r\\r\\n                    [\"Hour in which I co...</td>\n",
       "      <td>\\r\\r\\nHour in which I consider hydrangea, a sa...</td>\n",
       "      <td>Simone White</td>\n",
       "      <td>Living,Parenthood,The Body,The Mind,Nature,Tre...</td>\n",
       "    </tr>\n",
       "    <tr>\n",
       "      <th>16</th>\n",
       "      <td>16</td>\n",
       "      <td>\\r\\r\\n                    scars\\r\\r\\n         ...</td>\n",
       "      <td>\\r\\r\\nmy father’s body is a map\\r\\r\\na record ...</td>\n",
       "      <td>Truong Tran</td>\n",
       "      <td>The Body,Family &amp; Ancestors</td>\n",
       "    </tr>\n",
       "    <tr>\n",
       "      <th>17</th>\n",
       "      <td>17</td>\n",
       "      <td>\\r\\r\\n                    what remains two\\r\\r...</td>\n",
       "      <td>\\r\\r\\nit has long been forgotten this practice...</td>\n",
       "      <td>Truong Tran</td>\n",
       "      <td>Infancy,Parenthood,The Body</td>\n",
       "    </tr>\n",
       "    <tr>\n",
       "      <th>...</th>\n",
       "      <td>...</td>\n",
       "      <td>...</td>\n",
       "      <td>...</td>\n",
       "      <td>...</td>\n",
       "      <td>...</td>\n",
       "    </tr>\n",
       "    <tr>\n",
       "      <th>13832</th>\n",
       "      <td>1</td>\n",
       "      <td>\\r\\r\\n                    The Spider\\r\\r\\n    ...</td>\n",
       "      <td>\\r\\r\\nI \\r\\r\\nThe spider expects the cold of w...</td>\n",
       "      <td>Richard Eberhart</td>\n",
       "      <td>Nature,Animals,Seas, Rivers, &amp; Streams,Summer,...</td>\n",
       "    </tr>\n",
       "    <tr>\n",
       "      <th>13834</th>\n",
       "      <td>0</td>\n",
       "      <td>\\r\\r\\n                    0\\r\\r\\n</td>\n",
       "      <td>\\r\\r\\n          Philosophic\\r\\r\\nin its comple...</td>\n",
       "      <td>Hailey Leithauser</td>\n",
       "      <td>Arts &amp; Sciences,Philosophy</td>\n",
       "    </tr>\n",
       "    <tr>\n",
       "      <th>13835</th>\n",
       "      <td>1</td>\n",
       "      <td>\\r\\r\\n                    !\\r\\r\\n</td>\n",
       "      <td>\\r\\r\\nDear Writers, I’m compiling the first in...</td>\n",
       "      <td>Wendy Videlock</td>\n",
       "      <td>Relationships,Gay, Lesbian, Queer,Arts &amp; Scien...</td>\n",
       "    </tr>\n",
       "    <tr>\n",
       "      <th>13848</th>\n",
       "      <td>12</td>\n",
       "      <td>\\r\\r\\n                    1 January 1965\\r\\r\\n...</td>\n",
       "      <td>\\r\\r\\nThe Wise Men will unlearn your name.\\r\\r...</td>\n",
       "      <td>Joseph Brodsky</td>\n",
       "      <td>Living,Death,Growing Old,Time &amp; Brevity,Nature...</td>\n",
       "    </tr>\n",
       "    <tr>\n",
       "      <th>13849</th>\n",
       "      <td>13</td>\n",
       "      <td>\\r\\r\\n                    1-800-FEAR\\r\\r\\n    ...</td>\n",
       "      <td>\\r\\r\\nWe'd  like  to  talk  with  you  about  ...</td>\n",
       "      <td>Jody Gladding</td>\n",
       "      <td>Living,Social Commentaries,Popular Culture</td>\n",
       "    </tr>\n",
       "  </tbody>\n",
       "</table>\n",
       "<p>12897 rows × 5 columns</p>\n",
       "</div>"
      ]
     },
     "execution_count": 3,
     "metadata": {},
     "output_type": "execute_result"
    }
   ],
   "execution_count": 3
  },
  {
   "metadata": {
    "ExecuteTime": {
     "end_time": "2024-11-22T19:30:41.532352Z",
     "start_time": "2024-11-22T19:30:41.526862Z"
    }
   },
   "cell_type": "code",
   "source": [
    "df = df[['Poem']]\n",
    "df"
   ],
   "id": "d0e3ae2dd14f8444",
   "outputs": [
    {
     "data": {
      "text/plain": [
       "                                                    Poem\n",
       "6      \\r\\r\\nInvisible fish swim this ghost ocean now...\n",
       "7      \\r\\r\\nDon’t bother the earth spirit who lives ...\n",
       "9      \\r\\r\\nHour in which I consider hydrangea, a sa...\n",
       "16     \\r\\r\\nmy father’s body is a map\\r\\r\\na record ...\n",
       "17     \\r\\r\\nit has long been forgotten this practice...\n",
       "...                                                  ...\n",
       "13832  \\r\\r\\nI \\r\\r\\nThe spider expects the cold of w...\n",
       "13834  \\r\\r\\n          Philosophic\\r\\r\\nin its comple...\n",
       "13835  \\r\\r\\nDear Writers, I’m compiling the first in...\n",
       "13848  \\r\\r\\nThe Wise Men will unlearn your name.\\r\\r...\n",
       "13849  \\r\\r\\nWe'd  like  to  talk  with  you  about  ...\n",
       "\n",
       "[12897 rows x 1 columns]"
      ],
      "text/html": [
       "<div>\n",
       "<style scoped>\n",
       "    .dataframe tbody tr th:only-of-type {\n",
       "        vertical-align: middle;\n",
       "    }\n",
       "\n",
       "    .dataframe tbody tr th {\n",
       "        vertical-align: top;\n",
       "    }\n",
       "\n",
       "    .dataframe thead th {\n",
       "        text-align: right;\n",
       "    }\n",
       "</style>\n",
       "<table border=\"1\" class=\"dataframe\">\n",
       "  <thead>\n",
       "    <tr style=\"text-align: right;\">\n",
       "      <th></th>\n",
       "      <th>Poem</th>\n",
       "    </tr>\n",
       "  </thead>\n",
       "  <tbody>\n",
       "    <tr>\n",
       "      <th>6</th>\n",
       "      <td>\\r\\r\\nInvisible fish swim this ghost ocean now...</td>\n",
       "    </tr>\n",
       "    <tr>\n",
       "      <th>7</th>\n",
       "      <td>\\r\\r\\nDon’t bother the earth spirit who lives ...</td>\n",
       "    </tr>\n",
       "    <tr>\n",
       "      <th>9</th>\n",
       "      <td>\\r\\r\\nHour in which I consider hydrangea, a sa...</td>\n",
       "    </tr>\n",
       "    <tr>\n",
       "      <th>16</th>\n",
       "      <td>\\r\\r\\nmy father’s body is a map\\r\\r\\na record ...</td>\n",
       "    </tr>\n",
       "    <tr>\n",
       "      <th>17</th>\n",
       "      <td>\\r\\r\\nit has long been forgotten this practice...</td>\n",
       "    </tr>\n",
       "    <tr>\n",
       "      <th>...</th>\n",
       "      <td>...</td>\n",
       "    </tr>\n",
       "    <tr>\n",
       "      <th>13832</th>\n",
       "      <td>\\r\\r\\nI \\r\\r\\nThe spider expects the cold of w...</td>\n",
       "    </tr>\n",
       "    <tr>\n",
       "      <th>13834</th>\n",
       "      <td>\\r\\r\\n          Philosophic\\r\\r\\nin its comple...</td>\n",
       "    </tr>\n",
       "    <tr>\n",
       "      <th>13835</th>\n",
       "      <td>\\r\\r\\nDear Writers, I’m compiling the first in...</td>\n",
       "    </tr>\n",
       "    <tr>\n",
       "      <th>13848</th>\n",
       "      <td>\\r\\r\\nThe Wise Men will unlearn your name.\\r\\r...</td>\n",
       "    </tr>\n",
       "    <tr>\n",
       "      <th>13849</th>\n",
       "      <td>\\r\\r\\nWe'd  like  to  talk  with  you  about  ...</td>\n",
       "    </tr>\n",
       "  </tbody>\n",
       "</table>\n",
       "<p>12897 rows × 1 columns</p>\n",
       "</div>"
      ]
     },
     "execution_count": 4,
     "metadata": {},
     "output_type": "execute_result"
    }
   ],
   "execution_count": 4
  },
  {
   "metadata": {},
   "cell_type": "code",
   "outputs": [],
   "execution_count": null,
   "source": "",
   "id": "49fac5a044b289b2"
  }
 ],
 "metadata": {
  "kernelspec": {
   "display_name": "Python 3",
   "language": "python",
   "name": "python3"
  },
  "language_info": {
   "codemirror_mode": {
    "name": "ipython",
    "version": 2
   },
   "file_extension": ".py",
   "mimetype": "text/x-python",
   "name": "python",
   "nbconvert_exporter": "python",
   "pygments_lexer": "ipython2",
   "version": "2.7.6"
  }
 },
 "nbformat": 4,
 "nbformat_minor": 5
}
