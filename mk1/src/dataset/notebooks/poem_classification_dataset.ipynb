{
 "cells": [
  {
   "metadata": {
    "ExecuteTime": {
     "end_time": "2024-11-22T19:26:58.798259Z",
     "start_time": "2024-11-22T19:26:57.734489Z"
    }
   },
   "cell_type": "code",
   "source": [
    "import kagglehub\n",
    "from mk1.src.dataset.dataset import list_files, load_kaggle_datasets"
   ],
   "id": "d17963a7261529fa",
   "outputs": [],
   "execution_count": 26
  },
  {
   "cell_type": "code",
   "id": "initial_id",
   "metadata": {
    "collapsed": true,
    "ExecuteTime": {
     "end_time": "2024-11-22T19:25:53.311255Z",
     "start_time": "2024-11-22T19:25:53.087356Z"
    }
   },
   "source": [
    "poem_class_path = \"ramjasmaurya/poem-classification-nlp\"\n",
    "path = kagglehub.dataset_download(poem_class_path)\n",
    "\n",
    "print(\"Path to dataset files:\", path)"
   ],
   "outputs": [
    {
     "name": "stdout",
     "output_type": "stream",
     "text": [
      "Path to dataset files: /home/clovinux/.cache/kagglehub/datasets/ramjasmaurya/poem-classification-nlp/versions/2\n"
     ]
    }
   ],
   "execution_count": 23
  },
  {
   "metadata": {
    "ExecuteTime": {
     "end_time": "2024-11-22T19:25:58.683144Z",
     "start_time": "2024-11-22T19:25:58.680648Z"
    }
   },
   "cell_type": "code",
   "source": [
    "all_files = list_files(path)\n",
    "for file in all_files:\n",
    "    print(file)"
   ],
   "id": "502926d463652bea",
   "outputs": [
    {
     "name": "stdout",
     "output_type": "stream",
     "text": [
      "/home/clovinux/.cache/kagglehub/datasets/ramjasmaurya/poem-classification-nlp/versions/2/Poem_classification - test_data.csv\n",
      "/home/clovinux/.cache/kagglehub/datasets/ramjasmaurya/poem-classification-nlp/versions/2/Poem_classification - train_data.csv\n"
     ]
    }
   ],
   "execution_count": 24
  },
  {
   "metadata": {
    "ExecuteTime": {
     "end_time": "2024-11-22T19:27:00.821475Z",
     "start_time": "2024-11-22T19:27:00.545665Z"
    }
   },
   "cell_type": "code",
   "source": [
    "df = load_kaggle_datasets(poem_class_path)\n",
    "df"
   ],
   "id": "e186c93ebe99081d",
   "outputs": [
    {
     "data": {
      "text/plain": [
       "           Genre                                               Poem\n",
       "0          Music  A woman walks by the bench I’m sitting onwith ...\n",
       "1          Music  Because I am a boy, the untouchability of beau...\n",
       "2          Music  Because today we did not leave this world,We n...\n",
       "3          Music  Big Bend has been here, been here. Shouldn’t i...\n",
       "4          Music  I put shells there, along the lip of the road....\n",
       "..           ...                                                ...\n",
       "986  Environment  Why make so much of fragmentary blue In here a...\n",
       "987  Environment  Woman, I wish I didn't know your name. What co...\n",
       "988  Environment  Yonder to the kiosk, beside the creek, Paddle ...\n",
       "989  Environment  You come to fetch me from my work to-night Whe...\n",
       "990  Environment  You see them through water and glass, (both li...\n",
       "\n",
       "[984 rows x 2 columns]"
      ],
      "text/html": [
       "<div>\n",
       "<style scoped>\n",
       "    .dataframe tbody tr th:only-of-type {\n",
       "        vertical-align: middle;\n",
       "    }\n",
       "\n",
       "    .dataframe tbody tr th {\n",
       "        vertical-align: top;\n",
       "    }\n",
       "\n",
       "    .dataframe thead th {\n",
       "        text-align: right;\n",
       "    }\n",
       "</style>\n",
       "<table border=\"1\" class=\"dataframe\">\n",
       "  <thead>\n",
       "    <tr style=\"text-align: right;\">\n",
       "      <th></th>\n",
       "      <th>Genre</th>\n",
       "      <th>Poem</th>\n",
       "    </tr>\n",
       "  </thead>\n",
       "  <tbody>\n",
       "    <tr>\n",
       "      <th>0</th>\n",
       "      <td>Music</td>\n",
       "      <td>A woman walks by the bench I’m sitting onwith ...</td>\n",
       "    </tr>\n",
       "    <tr>\n",
       "      <th>1</th>\n",
       "      <td>Music</td>\n",
       "      <td>Because I am a boy, the untouchability of beau...</td>\n",
       "    </tr>\n",
       "    <tr>\n",
       "      <th>2</th>\n",
       "      <td>Music</td>\n",
       "      <td>Because today we did not leave this world,We n...</td>\n",
       "    </tr>\n",
       "    <tr>\n",
       "      <th>3</th>\n",
       "      <td>Music</td>\n",
       "      <td>Big Bend has been here, been here. Shouldn’t i...</td>\n",
       "    </tr>\n",
       "    <tr>\n",
       "      <th>4</th>\n",
       "      <td>Music</td>\n",
       "      <td>I put shells there, along the lip of the road....</td>\n",
       "    </tr>\n",
       "    <tr>\n",
       "      <th>...</th>\n",
       "      <td>...</td>\n",
       "      <td>...</td>\n",
       "    </tr>\n",
       "    <tr>\n",
       "      <th>986</th>\n",
       "      <td>Environment</td>\n",
       "      <td>Why make so much of fragmentary blue In here a...</td>\n",
       "    </tr>\n",
       "    <tr>\n",
       "      <th>987</th>\n",
       "      <td>Environment</td>\n",
       "      <td>Woman, I wish I didn't know your name. What co...</td>\n",
       "    </tr>\n",
       "    <tr>\n",
       "      <th>988</th>\n",
       "      <td>Environment</td>\n",
       "      <td>Yonder to the kiosk, beside the creek, Paddle ...</td>\n",
       "    </tr>\n",
       "    <tr>\n",
       "      <th>989</th>\n",
       "      <td>Environment</td>\n",
       "      <td>You come to fetch me from my work to-night Whe...</td>\n",
       "    </tr>\n",
       "    <tr>\n",
       "      <th>990</th>\n",
       "      <td>Environment</td>\n",
       "      <td>You see them through water and glass, (both li...</td>\n",
       "    </tr>\n",
       "  </tbody>\n",
       "</table>\n",
       "<p>984 rows × 2 columns</p>\n",
       "</div>"
      ]
     },
     "execution_count": 27,
     "metadata": {},
     "output_type": "execute_result"
    }
   ],
   "execution_count": 27
  },
  {
   "metadata": {
    "ExecuteTime": {
     "end_time": "2024-11-22T19:28:20.302145Z",
     "start_time": "2024-11-22T19:28:20.296068Z"
    }
   },
   "cell_type": "code",
   "source": [
    "df = df[['Poem']]\n",
    "df"
   ],
   "id": "2c4c2731b983e902",
   "outputs": [
    {
     "data": {
      "text/plain": [
       "                                                  Poem\n",
       "0    A woman walks by the bench I’m sitting onwith ...\n",
       "1    Because I am a boy, the untouchability of beau...\n",
       "2    Because today we did not leave this world,We n...\n",
       "3    Big Bend has been here, been here. Shouldn’t i...\n",
       "4    I put shells there, along the lip of the road....\n",
       "..                                                 ...\n",
       "986  Why make so much of fragmentary blue In here a...\n",
       "987  Woman, I wish I didn't know your name. What co...\n",
       "988  Yonder to the kiosk, beside the creek, Paddle ...\n",
       "989  You come to fetch me from my work to-night Whe...\n",
       "990  You see them through water and glass, (both li...\n",
       "\n",
       "[984 rows x 1 columns]"
      ],
      "text/html": [
       "<div>\n",
       "<style scoped>\n",
       "    .dataframe tbody tr th:only-of-type {\n",
       "        vertical-align: middle;\n",
       "    }\n",
       "\n",
       "    .dataframe tbody tr th {\n",
       "        vertical-align: top;\n",
       "    }\n",
       "\n",
       "    .dataframe thead th {\n",
       "        text-align: right;\n",
       "    }\n",
       "</style>\n",
       "<table border=\"1\" class=\"dataframe\">\n",
       "  <thead>\n",
       "    <tr style=\"text-align: right;\">\n",
       "      <th></th>\n",
       "      <th>Poem</th>\n",
       "    </tr>\n",
       "  </thead>\n",
       "  <tbody>\n",
       "    <tr>\n",
       "      <th>0</th>\n",
       "      <td>A woman walks by the bench I’m sitting onwith ...</td>\n",
       "    </tr>\n",
       "    <tr>\n",
       "      <th>1</th>\n",
       "      <td>Because I am a boy, the untouchability of beau...</td>\n",
       "    </tr>\n",
       "    <tr>\n",
       "      <th>2</th>\n",
       "      <td>Because today we did not leave this world,We n...</td>\n",
       "    </tr>\n",
       "    <tr>\n",
       "      <th>3</th>\n",
       "      <td>Big Bend has been here, been here. Shouldn’t i...</td>\n",
       "    </tr>\n",
       "    <tr>\n",
       "      <th>4</th>\n",
       "      <td>I put shells there, along the lip of the road....</td>\n",
       "    </tr>\n",
       "    <tr>\n",
       "      <th>...</th>\n",
       "      <td>...</td>\n",
       "    </tr>\n",
       "    <tr>\n",
       "      <th>986</th>\n",
       "      <td>Why make so much of fragmentary blue In here a...</td>\n",
       "    </tr>\n",
       "    <tr>\n",
       "      <th>987</th>\n",
       "      <td>Woman, I wish I didn't know your name. What co...</td>\n",
       "    </tr>\n",
       "    <tr>\n",
       "      <th>988</th>\n",
       "      <td>Yonder to the kiosk, beside the creek, Paddle ...</td>\n",
       "    </tr>\n",
       "    <tr>\n",
       "      <th>989</th>\n",
       "      <td>You come to fetch me from my work to-night Whe...</td>\n",
       "    </tr>\n",
       "    <tr>\n",
       "      <th>990</th>\n",
       "      <td>You see them through water and glass, (both li...</td>\n",
       "    </tr>\n",
       "  </tbody>\n",
       "</table>\n",
       "<p>984 rows × 1 columns</p>\n",
       "</div>"
      ]
     },
     "execution_count": 29,
     "metadata": {},
     "output_type": "execute_result"
    }
   ],
   "execution_count": 29
  },
  {
   "metadata": {},
   "cell_type": "code",
   "outputs": [],
   "execution_count": null,
   "source": "",
   "id": "c5cbba510d5ecc92"
  }
 ],
 "metadata": {
  "kernelspec": {
   "display_name": "Python 3",
   "language": "python",
   "name": "python3"
  },
  "language_info": {
   "codemirror_mode": {
    "name": "ipython",
    "version": 2
   },
   "file_extension": ".py",
   "mimetype": "text/x-python",
   "name": "python",
   "nbconvert_exporter": "python",
   "pygments_lexer": "ipython2",
   "version": "2.7.6"
  }
 },
 "nbformat": 4,
 "nbformat_minor": 5
}
