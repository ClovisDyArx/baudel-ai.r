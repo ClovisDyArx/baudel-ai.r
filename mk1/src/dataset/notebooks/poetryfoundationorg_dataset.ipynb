{
 "cells": [
  {
   "cell_type": "code",
   "id": "initial_id",
   "metadata": {
    "collapsed": true,
    "ExecuteTime": {
     "end_time": "2024-11-22T19:27:34.971630Z",
     "start_time": "2024-11-22T19:27:33.866020Z"
    }
   },
   "source": [
    "import kagglehub\n",
    "from mk1.src.dataset.dataset import load_kaggle_datasets"
   ],
   "outputs": [],
   "execution_count": 2
  },
  {
   "metadata": {
    "ExecuteTime": {
     "end_time": "2024-11-22T19:27:37.253333Z",
     "start_time": "2024-11-22T19:27:35.490652Z"
    }
   },
   "cell_type": "code",
   "source": [
    "poetryfoundationorg_path = \"johnhallman/complete-poetryfoundationorg-dataset\"\n",
    "path = kagglehub.dataset_download(poetryfoundationorg_path)\n",
    "\n",
    "print(\"Path to dataset files:\", path)"
   ],
   "id": "5ba36c691aca6cf1",
   "outputs": [
    {
     "name": "stdout",
     "output_type": "stream",
     "text": [
      "Downloading from https://www.kaggle.com/api/v1/datasets/download/johnhallman/complete-poetryfoundationorg-dataset?dataset_version_number=2...\n"
     ]
    },
    {
     "name": "stderr",
     "output_type": "stream",
     "text": [
      "100%|██████████| 9.85M/9.85M [00:00<00:00, 12.5MB/s]"
     ]
    },
    {
     "name": "stdout",
     "output_type": "stream",
     "text": [
      "Extracting files...\n"
     ]
    },
    {
     "name": "stderr",
     "output_type": "stream",
     "text": [
      "\n"
     ]
    },
    {
     "name": "stdout",
     "output_type": "stream",
     "text": [
      "Path to dataset files: /home/clovinux/.cache/kagglehub/datasets/johnhallman/complete-poetryfoundationorg-dataset/versions/2\n"
     ]
    }
   ],
   "execution_count": 3
  },
  {
   "metadata": {
    "ExecuteTime": {
     "end_time": "2024-11-22T19:27:52.905945Z",
     "start_time": "2024-11-22T19:27:52.430574Z"
    }
   },
   "cell_type": "code",
   "source": [
    "df = load_kaggle_datasets(poetryfoundationorg_path)\n",
    "df"
   ],
   "id": "13f06edcaea2d769",
   "outputs": [
    {
     "data": {
      "text/plain": [
       "       Unnamed: 0                Author  \\\n",
       "0               0        Wendy Videlock   \n",
       "1               1     Hailey Leithauser   \n",
       "2               2         Jody Gladding   \n",
       "3               3        Joseph Brodsky   \n",
       "4               4          Ted Berrigan   \n",
       "...           ...                   ...   \n",
       "15647       15647         Hannah Gamble   \n",
       "15648       15648      Eleni Sikelianos   \n",
       "15649       15649  Susan Elizabeth Howe   \n",
       "15650       15650        Andrew Shields   \n",
       "15651       15651     Joseph O. Legaspi   \n",
       "\n",
       "                                                   Title  \\\n",
       "0                                                      !   \n",
       "1                                                      0   \n",
       "2                                             1-800-FEAR   \n",
       "3                                         1 January 1965   \n",
       "4                                                3 Pages   \n",
       "...                                                  ...   \n",
       "15647              Your Invitation to a Modest Breakfast   \n",
       "15648  Your Kingdom\\n \\n \\n  \\n   Launch Audio in a N...   \n",
       "15649                     “Your Luck Is About To Change”   \n",
       "15650                              Your Mileage May Vary   \n",
       "15651                    Your Mother Wears a House Dress   \n",
       "\n",
       "       Poetry Foundation ID                                            Content  \n",
       "0                     55489  Dear Writers, I’m compiling the first in what ...  \n",
       "1                     41729  Philosophic\\nin its complex, ovoid emptiness,\\...  \n",
       "2                     57135  We'd  like  to  talk  with  you  about  fear t...  \n",
       "3                     56736  The Wise Men will unlearn your name.\\nAbove yo...  \n",
       "4                     51624  For Jack Collom\\n10 Things I do Every Day\\n\\np...  \n",
       "...                     ...                                                ...  \n",
       "15647                 56059  It’s too cold to smoke outside, but if you com...  \n",
       "15648                145220  if you like let the body feel\\nall its own evo...  \n",
       "15649                 41696  (A fortune cookie)\\nOminous inscrutable Chines...  \n",
       "15650                 90177  1\\nOur last night in the house was not our las...  \n",
       "15651                 91304  If your house\\nis a dress\\nit’ll fit like\\nLos...  \n",
       "\n",
       "[15651 rows x 5 columns]"
      ],
      "text/html": [
       "<div>\n",
       "<style scoped>\n",
       "    .dataframe tbody tr th:only-of-type {\n",
       "        vertical-align: middle;\n",
       "    }\n",
       "\n",
       "    .dataframe tbody tr th {\n",
       "        vertical-align: top;\n",
       "    }\n",
       "\n",
       "    .dataframe thead th {\n",
       "        text-align: right;\n",
       "    }\n",
       "</style>\n",
       "<table border=\"1\" class=\"dataframe\">\n",
       "  <thead>\n",
       "    <tr style=\"text-align: right;\">\n",
       "      <th></th>\n",
       "      <th>Unnamed: 0</th>\n",
       "      <th>Author</th>\n",
       "      <th>Title</th>\n",
       "      <th>Poetry Foundation ID</th>\n",
       "      <th>Content</th>\n",
       "    </tr>\n",
       "  </thead>\n",
       "  <tbody>\n",
       "    <tr>\n",
       "      <th>0</th>\n",
       "      <td>0</td>\n",
       "      <td>Wendy Videlock</td>\n",
       "      <td>!</td>\n",
       "      <td>55489</td>\n",
       "      <td>Dear Writers, I’m compiling the first in what ...</td>\n",
       "    </tr>\n",
       "    <tr>\n",
       "      <th>1</th>\n",
       "      <td>1</td>\n",
       "      <td>Hailey Leithauser</td>\n",
       "      <td>0</td>\n",
       "      <td>41729</td>\n",
       "      <td>Philosophic\\nin its complex, ovoid emptiness,\\...</td>\n",
       "    </tr>\n",
       "    <tr>\n",
       "      <th>2</th>\n",
       "      <td>2</td>\n",
       "      <td>Jody Gladding</td>\n",
       "      <td>1-800-FEAR</td>\n",
       "      <td>57135</td>\n",
       "      <td>We'd  like  to  talk  with  you  about  fear t...</td>\n",
       "    </tr>\n",
       "    <tr>\n",
       "      <th>3</th>\n",
       "      <td>3</td>\n",
       "      <td>Joseph Brodsky</td>\n",
       "      <td>1 January 1965</td>\n",
       "      <td>56736</td>\n",
       "      <td>The Wise Men will unlearn your name.\\nAbove yo...</td>\n",
       "    </tr>\n",
       "    <tr>\n",
       "      <th>4</th>\n",
       "      <td>4</td>\n",
       "      <td>Ted Berrigan</td>\n",
       "      <td>3 Pages</td>\n",
       "      <td>51624</td>\n",
       "      <td>For Jack Collom\\n10 Things I do Every Day\\n\\np...</td>\n",
       "    </tr>\n",
       "    <tr>\n",
       "      <th>...</th>\n",
       "      <td>...</td>\n",
       "      <td>...</td>\n",
       "      <td>...</td>\n",
       "      <td>...</td>\n",
       "      <td>...</td>\n",
       "    </tr>\n",
       "    <tr>\n",
       "      <th>15647</th>\n",
       "      <td>15647</td>\n",
       "      <td>Hannah Gamble</td>\n",
       "      <td>Your Invitation to a Modest Breakfast</td>\n",
       "      <td>56059</td>\n",
       "      <td>It’s too cold to smoke outside, but if you com...</td>\n",
       "    </tr>\n",
       "    <tr>\n",
       "      <th>15648</th>\n",
       "      <td>15648</td>\n",
       "      <td>Eleni Sikelianos</td>\n",
       "      <td>Your Kingdom\\n \\n \\n  \\n   Launch Audio in a N...</td>\n",
       "      <td>145220</td>\n",
       "      <td>if you like let the body feel\\nall its own evo...</td>\n",
       "    </tr>\n",
       "    <tr>\n",
       "      <th>15649</th>\n",
       "      <td>15649</td>\n",
       "      <td>Susan Elizabeth Howe</td>\n",
       "      <td>“Your Luck Is About To Change”</td>\n",
       "      <td>41696</td>\n",
       "      <td>(A fortune cookie)\\nOminous inscrutable Chines...</td>\n",
       "    </tr>\n",
       "    <tr>\n",
       "      <th>15650</th>\n",
       "      <td>15650</td>\n",
       "      <td>Andrew Shields</td>\n",
       "      <td>Your Mileage May Vary</td>\n",
       "      <td>90177</td>\n",
       "      <td>1\\nOur last night in the house was not our las...</td>\n",
       "    </tr>\n",
       "    <tr>\n",
       "      <th>15651</th>\n",
       "      <td>15651</td>\n",
       "      <td>Joseph O. Legaspi</td>\n",
       "      <td>Your Mother Wears a House Dress</td>\n",
       "      <td>91304</td>\n",
       "      <td>If your house\\nis a dress\\nit’ll fit like\\nLos...</td>\n",
       "    </tr>\n",
       "  </tbody>\n",
       "</table>\n",
       "<p>15651 rows × 5 columns</p>\n",
       "</div>"
      ]
     },
     "execution_count": 5,
     "metadata": {},
     "output_type": "execute_result"
    }
   ],
   "execution_count": 5
  },
  {
   "metadata": {
    "ExecuteTime": {
     "end_time": "2024-11-22T19:28:37.483938Z",
     "start_time": "2024-11-22T19:28:37.478746Z"
    }
   },
   "cell_type": "code",
   "source": [
    "df = df[['Content']]\n",
    "df"
   ],
   "id": "b40822f20021d33c",
   "outputs": [
    {
     "data": {
      "text/plain": [
       "                                                 Content\n",
       "0      Dear Writers, I’m compiling the first in what ...\n",
       "1      Philosophic\\nin its complex, ovoid emptiness,\\...\n",
       "2      We'd  like  to  talk  with  you  about  fear t...\n",
       "3      The Wise Men will unlearn your name.\\nAbove yo...\n",
       "4      For Jack Collom\\n10 Things I do Every Day\\n\\np...\n",
       "...                                                  ...\n",
       "15647  It’s too cold to smoke outside, but if you com...\n",
       "15648  if you like let the body feel\\nall its own evo...\n",
       "15649  (A fortune cookie)\\nOminous inscrutable Chines...\n",
       "15650  1\\nOur last night in the house was not our las...\n",
       "15651  If your house\\nis a dress\\nit’ll fit like\\nLos...\n",
       "\n",
       "[15651 rows x 1 columns]"
      ],
      "text/html": [
       "<div>\n",
       "<style scoped>\n",
       "    .dataframe tbody tr th:only-of-type {\n",
       "        vertical-align: middle;\n",
       "    }\n",
       "\n",
       "    .dataframe tbody tr th {\n",
       "        vertical-align: top;\n",
       "    }\n",
       "\n",
       "    .dataframe thead th {\n",
       "        text-align: right;\n",
       "    }\n",
       "</style>\n",
       "<table border=\"1\" class=\"dataframe\">\n",
       "  <thead>\n",
       "    <tr style=\"text-align: right;\">\n",
       "      <th></th>\n",
       "      <th>Content</th>\n",
       "    </tr>\n",
       "  </thead>\n",
       "  <tbody>\n",
       "    <tr>\n",
       "      <th>0</th>\n",
       "      <td>Dear Writers, I’m compiling the first in what ...</td>\n",
       "    </tr>\n",
       "    <tr>\n",
       "      <th>1</th>\n",
       "      <td>Philosophic\\nin its complex, ovoid emptiness,\\...</td>\n",
       "    </tr>\n",
       "    <tr>\n",
       "      <th>2</th>\n",
       "      <td>We'd  like  to  talk  with  you  about  fear t...</td>\n",
       "    </tr>\n",
       "    <tr>\n",
       "      <th>3</th>\n",
       "      <td>The Wise Men will unlearn your name.\\nAbove yo...</td>\n",
       "    </tr>\n",
       "    <tr>\n",
       "      <th>4</th>\n",
       "      <td>For Jack Collom\\n10 Things I do Every Day\\n\\np...</td>\n",
       "    </tr>\n",
       "    <tr>\n",
       "      <th>...</th>\n",
       "      <td>...</td>\n",
       "    </tr>\n",
       "    <tr>\n",
       "      <th>15647</th>\n",
       "      <td>It’s too cold to smoke outside, but if you com...</td>\n",
       "    </tr>\n",
       "    <tr>\n",
       "      <th>15648</th>\n",
       "      <td>if you like let the body feel\\nall its own evo...</td>\n",
       "    </tr>\n",
       "    <tr>\n",
       "      <th>15649</th>\n",
       "      <td>(A fortune cookie)\\nOminous inscrutable Chines...</td>\n",
       "    </tr>\n",
       "    <tr>\n",
       "      <th>15650</th>\n",
       "      <td>1\\nOur last night in the house was not our las...</td>\n",
       "    </tr>\n",
       "    <tr>\n",
       "      <th>15651</th>\n",
       "      <td>If your house\\nis a dress\\nit’ll fit like\\nLos...</td>\n",
       "    </tr>\n",
       "  </tbody>\n",
       "</table>\n",
       "<p>15651 rows × 1 columns</p>\n",
       "</div>"
      ]
     },
     "execution_count": 6,
     "metadata": {},
     "output_type": "execute_result"
    }
   ],
   "execution_count": 6
  },
  {
   "metadata": {},
   "cell_type": "code",
   "outputs": [],
   "execution_count": null,
   "source": "",
   "id": "82c133919cb0eef9"
  }
 ],
 "metadata": {
  "kernelspec": {
   "display_name": "Python 3",
   "language": "python",
   "name": "python3"
  },
  "language_info": {
   "codemirror_mode": {
    "name": "ipython",
    "version": 2
   },
   "file_extension": ".py",
   "mimetype": "text/x-python",
   "name": "python",
   "nbconvert_exporter": "python",
   "pygments_lexer": "ipython2",
   "version": "2.7.6"
  }
 },
 "nbformat": 4,
 "nbformat_minor": 5
}
